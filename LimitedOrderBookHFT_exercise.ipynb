{
 "cells": [
  {
   "cell_type": "code",
   "execution_count": 4,
   "metadata": {},
   "outputs": [],
   "source": [
    "import pandas as pd\n",
    "import numpy as np\n",
    "import datetime\n",
    "import matplotlib.pyplot as plt\n",
    "import japanize_matplotlib\n",
    "from tqdm import tqdm\n",
    "\n",
    "# 論文の数値シミュレーションで使われているパラメータ\n",
    "_s = 100\n",
    "_T = 1\n",
    "_sigma = 2\n",
    "_dt = 0.005\n",
    "_q = 0\n",
    "_gamma = 0.1\n",
    "_k = 1.5\n",
    "_A = 140\n",
    "\n",
    "def prepare_dataframe(symmetric = False):\n",
    "    df = pd.DataFrame()\n",
    "\n",
    "    # ランダムな価格系列を論文の通りに生成する\n",
    "    _rand = (2 * np.random.randint(0, 2, size = int(1.0 / 0.005) + 1) - 1) * _sigma\n",
    "    df['price_change'] = _rand * np.sqrt(_dt)\n",
    "    df['price_change'] = df['price_change'].shift(1).fillna(0)\n",
    "    df['price_mid'] = _s + df['price_change'].cumsum()\n",
    "\n",
    "    df['time'] = df.index * _dt # 時刻\n",
    "\n",
    "    df['delta_ask_plus_delta_bid'] = _gamma * _sigma ** 2 * (_T - df['time']) + 2 / _gamma * np.log(1 + _gamma / _k)\n",
    "\n",
    "    df['price_indifference'] = 0 # エージェントの在庫を考慮した無差別価格 (後のシミュレーションで埋める)\n",
    "    df['inventory'] = 0 # エージェントの株在庫 (後のシミュレーションで埋める)\n",
    "    df['delta_ask'] = 0 # price_midからの売り指値の幅 (後のシミュレーションで埋める)\n",
    "    df['delta_bid'] = 0 # price_midからの買い指値の幅 (後のシミュレーションで埋める)\n",
    "    df['cash'] = 0 # 現金保有額 (後のシミュレーションで埋める)\n",
    "\n",
    "    # インデックスを時間に設定\n",
    "    df = df.set_index('time', drop = True)\n",
    "    df = df.drop('price_change', axis = 1)\n",
    "\n",
    "    # 時刻0の初期条件を設定\n",
    "    _price_mid = df.iloc[0, df.columns.get_loc('price_mid')]\n",
    "    _inventory = df.iloc[0, df.columns.get_loc('inventory')]\n",
    "    _price_indifference = _price_mid - _inventory * _gamma * _sigma ** 2 * (_T - df.index[0])\n",
    "    _delta = df.iloc[0, df.columns.get_loc('delta_ask_plus_delta_bid')] / 2\n",
    "\n",
    "    df.iloc[0, df.columns.get_loc('price_indifference')] = _price_indifference\n",
    "    if symmetric == False:\n",
    "        df.iloc[0, df.columns.get_loc('delta_ask')] = _price_indifference + _delta - _price_mid\n",
    "        df.iloc[0, df.columns.get_loc('delta_bid')] = _price_indifference - _delta - _price_mid\n",
    "    else:\n",
    "        df.iloc[0, df.columns.get_loc('delta_ask')] = _delta\n",
    "        df.iloc[0, df.columns.get_loc('delta_bid')] = -_delta\n",
    "    df.iloc[0, df.columns.get_loc('cash')] = 0\n",
    "\n",
    "    return df\n",
    "\n",
    "def calc_lambda(delta):\n",
    "    return _A * np.exp(-1 * _k * delta)\n",
    "\n",
    "def run_simulation(df_target, symmetric = False):\n",
    "    df = df_target.copy()\n",
    "    for _i in range(1, len(df), 1):\n",
    "        _prev_price_mid = df.iloc[_i - 1, df.columns.get_loc('price_mid')]\n",
    "        _prev_delta_ask = df.iloc[_i - 1, df.columns.get_loc('delta_ask')]\n",
    "        _prev_delta_bid = df.iloc[_i - 1, df.columns.get_loc('delta_bid')]\n",
    "        _probability_ask =  calc_lambda(np.abs(_prev_delta_ask)) * _dt\n",
    "        _probability_bid =  calc_lambda(np.abs(_prev_delta_bid)) * _dt\n",
    "        _prev_inventory = df.iloc[_i - 1, df.columns.get_loc('inventory')]\n",
    "        _prev_cash = df.iloc[_i - 1, df.columns.get_loc('cash')]\n",
    "\n",
    "        # 論文の通り、確率に基づいて指値の成立を判定する\n",
    "        _random_value = np.random.uniform()\n",
    "        if _random_value <= _probability_bid:\n",
    "            # 買い指値が成立\n",
    "            df.iloc[_i, df.columns.get_loc('inventory')] = _prev_inventory + 1\n",
    "            df.iloc[_i, df.columns.get_loc('cash')] = _prev_cash - (_prev_price_mid + _prev_delta_bid)\n",
    "        elif _random_value < _probability_ask + _probability_bid:\n",
    "            # 売り指値が成立\n",
    "            df.iloc[_i, df.columns.get_loc('inventory')] = _prev_inventory - 1\n",
    "            df.iloc[_i, df.columns.get_loc('cash')] = _prev_cash + (_prev_price_mid + _prev_delta_ask)\n",
    "        else:\n",
    "            # ポジションを維持\n",
    "            df.iloc[_i, df.columns.get_loc('inventory')] = _prev_inventory\n",
    "            df.iloc[_i, df.columns.get_loc('cash')] = _prev_cash\n",
    "        \n",
    "        # この時間の各種値を更新\n",
    "        _price_mid = df.iloc[_i, df.columns.get_loc('price_mid')]\n",
    "        _inventory = df.iloc[_i, df.columns.get_loc('inventory')]\n",
    "        _price_indifference = _price_mid - _inventory * _gamma * _sigma ** 2 * (_T - df.index[_i])\n",
    "        _delta = df.iloc[_i, df.columns.get_loc('delta_ask_plus_delta_bid')] / 2\n",
    "\n",
    "        df.iloc[_i, df.columns.get_loc('price_indifference')] = _price_indifference\n",
    "        if symmetric == False:\n",
    "            df.iloc[_i, df.columns.get_loc('delta_ask')] = _price_indifference + _delta - _price_mid\n",
    "            df.iloc[_i, df.columns.get_loc('delta_bid')] = _price_indifference - _delta - _price_mid\n",
    "        else:\n",
    "            df.iloc[_i, df.columns.get_loc('delta_ask')] = _delta\n",
    "            df.iloc[_i, df.columns.get_loc('delta_bid')] = -_delta\n",
    "    \n",
    "    return df\n",
    "\n",
    "def render_result(df):\n",
    "    _fig, _axs = plt.subplots(3, sharex = True, figsize = (8, 6), gridspec_kw={'height_ratios': [1, 0.5, 0.5]})\n",
    "    \n",
    "    _axs[0].plot(df['price_mid'], label = '仲値', color = 'black')\n",
    "    _axs[0].plot(df['price_indifference'], label = '無差別価格', color = 'lime')\n",
    "    _axs[0].scatter(df.index, df['price_mid'] + df['delta_ask'], marker = '.', label = '売指値', color = 'red', s = 10)\n",
    "    _axs[0].scatter(df.index, df['price_mid'] + df['delta_bid'], marker = 'o', label = '買指値', color = 'red', s = 10)\n",
    "    _axs[0].grid()\n",
    "    _axs[0].legend()\n",
    "\n",
    "    _axs[1].plot(df['inventory'], label = '在庫', color = 'blue')\n",
    "    _axs[1].grid()\n",
    "    _axs[1].legend()\n",
    "\n",
    "    _axs[2].plot(df['cash'] + df['inventory'] * df['price_mid'], label = '資産', color = 'blue')\n",
    "    _axs[2].grid()\n",
    "    _axs[2].legend()\n",
    "\n",
    "    _fig.show()\n"
   ]
  },
  {
   "cell_type": "code",
   "execution_count": 5,
   "metadata": {},
   "outputs": [
    {
     "name": "stderr",
     "output_type": "stream",
     "text": [
      "100%|██████████| 1000/1000 [02:14<00:00,  7.41it/s]\n"
     ]
    },
    {
     "data": {
      "text/plain": [
       "count    1000.000000\n",
       "mean       64.221014\n",
       "std         5.679522\n",
       "min        43.720029\n",
       "25%        60.271760\n",
       "50%        64.419475\n",
       "75%        67.902689\n",
       "max        83.299718\n",
       "dtype: float64"
      ]
     },
     "execution_count": 5,
     "metadata": {},
     "output_type": "execute_result"
    }
   ],
   "source": [
    "results = []\n",
    "\n",
    "for _i in tqdm(range(1000)):\n",
    "    df = prepare_dataframe()\n",
    "    df = run_simulation(df)\n",
    "    _final_wealth = df.iloc[-1, df.columns.get_loc('cash')] + df.iloc[-1, df.columns.get_loc('inventory')] * df.iloc[-1, df.columns.get_loc('price_mid')]\n",
    "    results.append(_final_wealth)\n",
    "\n",
    "series_results = pd.Series(results)\n",
    "series_results.describe()"
   ]
  },
  {
   "cell_type": "code",
   "execution_count": 6,
   "metadata": {},
   "outputs": [
    {
     "name": "stderr",
     "output_type": "stream",
     "text": [
      "100%|██████████| 1000/1000 [02:16<00:00,  7.34it/s]\n"
     ]
    },
    {
     "data": {
      "text/plain": [
       "count    1000.000000\n",
       "mean       67.941628\n",
       "std        14.319557\n",
       "min       -11.268235\n",
       "25%        60.521346\n",
       "50%        68.201200\n",
       "75%        75.536276\n",
       "max       135.867540\n",
       "dtype: float64"
      ]
     },
     "execution_count": 6,
     "metadata": {},
     "output_type": "execute_result"
    }
   ],
   "source": [
    "results = []\n",
    "\n",
    "for _i in tqdm(range(1000)):\n",
    "    df = prepare_dataframe(symmetric = True)\n",
    "    df = run_simulation(df, symmetric = True)\n",
    "    _final_wealth = df.iloc[-1, df.columns.get_loc('cash')] + df.iloc[-1, df.columns.get_loc('inventory')] * df.iloc[-1, df.columns.get_loc('price_mid')]\n",
    "    results.append(_final_wealth)\n",
    "\n",
    "series_results = pd.Series(results)\n",
    "series_results.describe()"
   ]
  },
  {
   "cell_type": "code",
   "execution_count": null,
   "metadata": {},
   "outputs": [],
   "source": []
  }
 ],
 "metadata": {
  "kernelspec": {
   "display_name": "Python 3.10.6 ('base')",
   "language": "python",
   "name": "python3"
  },
  "language_info": {
   "codemirror_mode": {
    "name": "ipython",
    "version": 3
   },
   "file_extension": ".py",
   "mimetype": "text/x-python",
   "name": "python",
   "nbconvert_exporter": "python",
   "pygments_lexer": "ipython3",
   "version": "3.10.6"
  },
  "orig_nbformat": 4,
  "vscode": {
   "interpreter": {
    "hash": "d4d1e4263499bec80672ea0156c357c1ee493ec2b1c70f0acce89fc37c4a6abe"
   }
  }
 },
 "nbformat": 4,
 "nbformat_minor": 2
}
